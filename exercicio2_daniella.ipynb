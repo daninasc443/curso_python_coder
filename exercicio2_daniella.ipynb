{
 "cells": [
  {
   "cell_type": "code",
   "execution_count": 8,
   "metadata": {},
   "outputs": [],
   "source": [
    "from plyer import notification "
   ]
  },
  {
   "cell_type": "code",
   "execution_count": 14,
   "metadata": {},
   "outputs": [],
   "source": [
    "def alerta (nivel, base, etapa):\n",
    "    message = f\"Falha no carregamento da base {base} na etapa {etapa}\"\n",
    "    if nivel == 1:\n",
    "        title = \"Alerta Baixo\"\n",
    "    elif nivel == 2:\n",
    "        tite = \"Alerta Médio\"\n",
    "    else:\n",
    "        title = \"Alerta Alto\"\n",
    "    notification.notify(\n",
    "       title = title,\n",
    "       message = message \n",
    "    )"
   ]
  },
  {
   "cell_type": "code",
   "execution_count": 15,
   "metadata": {},
   "outputs": [],
   "source": [
    "alerta (3,\"Censo\", \"Extração\")"
   ]
  }
 ],
 "metadata": {
  "kernelspec": {
   "display_name": "base",
   "language": "python",
   "name": "python3"
  },
  "language_info": {
   "codemirror_mode": {
    "name": "ipython",
    "version": 3
   },
   "file_extension": ".py",
   "mimetype": "text/x-python",
   "name": "python",
   "nbconvert_exporter": "python",
   "pygments_lexer": "ipython3",
   "version": "3.11.3"
  }
 },
 "nbformat": 4,
 "nbformat_minor": 2
}
