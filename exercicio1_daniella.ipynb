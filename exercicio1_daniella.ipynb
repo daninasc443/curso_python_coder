{
 "cells": [
  {
   "cell_type": "markdown",
   "metadata": {},
   "source": [
    "## Desafio Complementar 1 - Daniella Nascimento"
   ]
  },
  {
   "cell_type": "markdown",
   "metadata": {},
   "source": [
    "### Exercício 1: Calculadora de Imposto de Renda:"
   ]
  },
  {
   "cell_type": "code",
   "execution_count": null,
   "metadata": {},
   "outputs": [],
   "source": [
    "#Crie um programa que calcule o Imposto de Renda devido por um contribuinte. O usuário deve inserir o nome do contribuinte e o salário mensal. \n",
    "# O programa deve calcular o imposto com base nas seguintes faixas:\n",
    "# Até R$ 1.903,98: isento\n",
    "# De R$ 1.903,99 até R$ 2.826,65: 7.5%\n",
    "# De R$ 2.826,66 até R$ 3.751,05: 15%\n",
    "# De R$ 3.751,06 até R$ 4.664,68: 22.5%\n",
    "# Acima de R$ 4.664,68: 27.5%\n",
    "# # Apresente o nome do contribuinte e o valor do imposto a pagar."
   ]
  },
  {
   "cell_type": "code",
   "execution_count": 1,
   "metadata": {},
   "outputs": [
    {
     "name": "stdout",
     "output_type": "stream",
     "text": [
      "Nome Contribuinte: gg \n",
      "Imposto a pagar: 1256.475\n"
     ]
    }
   ],
   "source": [
    "NomeContribuinte = input(\"Insira o nome do Contribuinte: \")\n",
    "SalarioContribuinte = float(input(\"Insira o salário do contribuinte: \"))\n",
    "\n",
    "if SalarioContribuinte <= 1903.98:\n",
    "    imposto = 0\n",
    "elif 1903.99 >= SalarioContribuinte <= 2826.65:\n",
    "    imposto = 7.5\n",
    "elif 2826.66 >= SalarioContribuinte <= 3751.05:\n",
    "    imposto = 15\n",
    "elif 3751.06 >= SalarioContribuinte <= 4664.68:\n",
    "    imposto = 22.5\n",
    "else:\n",
    "    imposto = 27.5\n",
    "\n",
    "TotalImposto = (SalarioContribuinte * imposto) / 100\n",
    "\n",
    "print (f\"Nome Contribuinte: {NomeContribuinte} \\nImposto a pagar: {TotalImposto}\")"
   ]
  },
  {
   "cell_type": "markdown",
   "metadata": {},
   "source": [
    "### Exercício 2: Verificador de elegibilidade para votação:"
   ]
  },
  {
   "cell_type": "code",
   "execution_count": null,
   "metadata": {},
   "outputs": [],
   "source": [
    "# Desenvolva um programa que determine se uma pessoa está apta a votar. O usuário deve informar o nome e a idade. As regras para determinar a elegibilidade são:\n",
    "\n",
    "# Menos de 16 anos: não pode votar\n",
    "# De 16 a 17 anos: voto facultativo\n",
    "# De 18 a 70 anos: voto obrigatório\n",
    "# Mais de 70 anos: voto facultativo\n",
    "# O programa deve informar o nome da pessoa e se ela deve votar, não pode votar ou se o voto é facultativo."
   ]
  },
  {
   "cell_type": "code",
   "execution_count": null,
   "metadata": {},
   "outputs": [],
   "source": [
    "NomeEleitor = input(\"Insira o nome eleitor: \")\n",
    "IdadeEleitor = int(input(\"Insira a idade eleitor: \"))\n",
    "\n",
    "def Votacao (nome, idade):\n",
    "    if idade < 16:\n",
    "       print (f\"Eleitor (a): {NomeEleitor} tem {IdadeEleitor} anos e está inapto(a) a votar\")\n",
    "    elif 16 <= idade <= 17 or idade > 70:\n",
    "        print (f\"Eleitor (a): {NomeEleitor} tem {IdadeEleitor} anos e o voto é facultativo\")\n",
    "    else:\n",
    "        print (f\"Eleitor (a): {NomeEleitor} tem {IdadeEleitor} anos e o voto é obrigatório\")\n",
    "\n",
    "Votacao(NomeEleitor, IdadeEleitor)"
   ]
  },
  {
   "cell_type": "markdown",
   "metadata": {},
   "source": [
    "### Exercício 3: Sistema de Bonificação de Funcionários:"
   ]
  },
  {
   "cell_type": "code",
   "execution_count": null,
   "metadata": {},
   "outputs": [],
   "source": [
    "# Elabore um programa que calcule a bonificação anual de um funcionário. Peça o nome do funcionário, o salário e o tempo de serviço em anos na empresa. A bonificação é dada da seguinte forma:\n",
    "\n",
    "# Menos de 1 ano de serviço: sem bonificação\n",
    "# De 1 a 3 anos de serviço: 10% do salário\n",
    "# De 4 a 6 anos de serviço: 15% do salário\n",
    "# De 7 a 10 anos de serviço: 20% do salário\n",
    "# Mais de 10 anos de serviço: 25% do salário\n",
    "# # O programa deve mostrar o nome do funcionário e o valor da bonificação que ele receberá."
   ]
  },
  {
   "cell_type": "code",
   "execution_count": null,
   "metadata": {},
   "outputs": [],
   "source": [
    "NomeFuncionario = input(\"Insira o Nome Funcionario(a): \")\n",
    "SalarioFuncionario = float(input(\"Insira o Salário Funcionario(a): \"))\n",
    "TempoEmpresa = int(input(\"Insira o tempo de empresa em anos: \"))\n",
    "\n",
    "if TempoEmpresa < 1:\n",
    "    Bonificacao = 0\n",
    "elif 1 >= TempoEmpresa <= 2:\n",
    "    Bonificacao = 10\n",
    "elif 4 >= TempoEmpresa <= 6:\n",
    "    Bonificacao = 15\n",
    "elif 7 >= TempoEmpresa <= 10:\n",
    "    Bonificacao = 20\n",
    "else:\n",
    "    Bonificacao = 25\n",
    "\n",
    "TotalBonus = (SalarioFuncionario * Bonificacao) / 100\n",
    "\n",
    "print (f\"Nome Funcionario(a): {NomeFuncionario} \\nBônus a receber: {TotalBonus}\")"
   ]
  },
  {
   "cell_type": "markdown",
   "metadata": {},
   "source": [
    "### Exercício 4: Calculadora de Consumo de Combustível:"
   ]
  },
  {
   "cell_type": "code",
   "execution_count": null,
   "metadata": {},
   "outputs": [],
   "source": [
    "# Crie um aplicativo para calcular o consumo médio de combustível de um veículo. \n",
    "# O usuário deve inserir o nome do motorista, a quantidade de quilômetros percorridos e a quantidade de combustível gasto em litros. \n",
    "# O programa deve calcular o consumo médio (quilômetros por litro) e classificar a eficiência do veículo conforme a tabela:\n",
    "\n",
    "# Menos de 8 km/l: Venda o carro!\n",
    "# Entre 8 e 12 km/l: Econômico\n",
    "# Mais de 12 km/l: Super econômico\n",
    "# Apresente o nome do motorista e a classificação de eficiência do veículo."
   ]
  },
  {
   "cell_type": "code",
   "execution_count": null,
   "metadata": {},
   "outputs": [],
   "source": [
    "NomeMotorista = input(\"Insira o nome do(a) Motorista: \")\n",
    "QuilometrosPercorridos = float(input(\"Insira a quantidade de km percorridos: \"))\n",
    "CombustivelGasto = float(input(\"Insira a quantidade de combustível gasto (L): \"))\n",
    "\n",
    "ConsumoMedio = QuilometrosPercorridos/CombustivelGasto\n",
    "\n",
    "if ConsumoMedio < 8:\n",
    "    Eficiencia = \"Venda o carro!\"\n",
    "elif 8 <= ConsumoMedio <= 12:\n",
    "    Eficiencia = \" Econômico!\"\n",
    "else:\n",
    "    Eficiencia = \"Super econômico!\"\n",
    "\n",
    "print (f\"Relatório:\\nNome Motorista: {NomeMotorista}\\nEficiência do veículo: {Eficiencia}\")"
   ]
  }
 ],
 "metadata": {
  "kernelspec": {
   "display_name": "base",
   "language": "python",
   "name": "python3"
  },
  "language_info": {
   "codemirror_mode": {
    "name": "ipython",
    "version": 3
   },
   "file_extension": ".py",
   "mimetype": "text/x-python",
   "name": "python",
   "nbconvert_exporter": "python",
   "pygments_lexer": "ipython3",
   "version": "3.11.3"
  }
 },
 "nbformat": 4,
 "nbformat_minor": 2
}
